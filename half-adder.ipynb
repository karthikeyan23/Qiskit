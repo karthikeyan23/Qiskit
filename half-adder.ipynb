{
 "cells": [
  {
   "cell_type": "code",
   "execution_count": 70,
   "metadata": {
    "collapsed": true
   },
   "outputs": [],
   "source": [
    "import qiskit.tools.jupyter\n",
    "from qiskit import QuantumCircuit, assemble, Aer\n",
    "from qiskit.visualization import plot_histogram\n",
    "quantum_h_adder = QuantumCircuit(4,2)"
   ]
  },
  {
   "cell_type": "code",
   "execution_count": 71,
   "outputs": [
    {
     "data": {
      "text/plain": "<qiskit.circuit.instructionset.InstructionSet at 0x1571675e0>"
     },
     "execution_count": 71,
     "metadata": {},
     "output_type": "execute_result"
    }
   ],
   "source": [
    "quantum_h_adder.x(0)\n",
    "#quantum_h_adder.x(1)"
   ],
   "metadata": {
    "collapsed": false
   }
  },
  {
   "cell_type": "code",
   "execution_count": 72,
   "outputs": [
    {
     "data": {
      "text/plain": "<qiskit.circuit.instructionset.InstructionSet at 0x157282c50>"
     },
     "execution_count": 72,
     "metadata": {},
     "output_type": "execute_result"
    }
   ],
   "source": [
    "quantum_h_adder.barrier()\n",
    "quantum_h_adder.cx(0,2)\n",
    "quantum_h_adder.cx(1,2)\n",
    "quantum_h_adder.ccx(0,1,3)\n",
    "quantum_h_adder.barrier()"
   ],
   "metadata": {
    "collapsed": false
   }
  },
  {
   "cell_type": "code",
   "execution_count": 73,
   "outputs": [
    {
     "data": {
      "text/plain": "     ┌───┐ ░                 ░       \nq_0: ┤ X ├─░───■─────────■───░───────\n     └───┘ ░   │         │   ░       \nq_1: ──────░───┼────■────■───░───────\n           ░ ┌─┴─┐┌─┴─┐  │   ░ ┌─┐   \nq_2: ──────░─┤ X ├┤ X ├──┼───░─┤M├───\n           ░ └───┘└───┘┌─┴─┐ ░ └╥┘┌─┐\nq_3: ──────░───────────┤ X ├─░──╫─┤M├\n           ░           └───┘ ░  ║ └╥┘\nc: 2/═══════════════════════════╩══╩═\n                                0  1 ",
      "text/html": "<pre style=\"word-wrap: normal;white-space: pre;background: #fff0;line-height: 1.1;font-family: &quot;Courier New&quot;,Courier,monospace\">     ┌───┐ ░                 ░       \nq_0: ┤ X ├─░───■─────────■───░───────\n     └───┘ ░   │         │   ░       \nq_1: ──────░───┼────■────■───░───────\n           ░ ┌─┴─┐┌─┴─┐  │   ░ ┌─┐   \nq_2: ──────░─┤ X ├┤ X ├──┼───░─┤M├───\n           ░ └───┘└───┘┌─┴─┐ ░ └╥┘┌─┐\nq_3: ──────░───────────┤ X ├─░──╫─┤M├\n           ░           └───┘ ░  ║ └╥┘\nc: 2/═══════════════════════════╩══╩═\n                                0  1 </pre>"
     },
     "execution_count": 73,
     "metadata": {},
     "output_type": "execute_result"
    }
   ],
   "source": [
    "quantum_h_adder.measure(2,0)\n",
    "quantum_h_adder.measure(3,1)\n",
    "quantum_h_adder.draw()"
   ],
   "metadata": {
    "collapsed": false
   }
  },
  {
   "cell_type": "code",
   "execution_count": 74,
   "outputs": [
    {
     "data": {
      "text/plain": "<Figure size 700x500 with 1 Axes>",
      "image/png": "[encoded data removed]"
     },
     "execution_count": 74,
     "metadata": {},
     "output_type": "execute_result"
    }
   ],
   "source": [
    "qobj = assemble(quantum_h_adder)\n",
    "sim = Aer.get_backend('aer_simulator')\n",
    "counts = sim.run(qobj).result().get_counts()\n",
    "plot_histogram(counts)"
   ],
   "metadata": {
    "collapsed": false
   }
  }
 ],
 "metadata": {
  "kernelspec": {
   "display_name": "Python 3",
   "language": "python",
   "name": "python3"
  },
  "language_info": {
   "codemirror_mode": {
    "name": "ipython",
    "version": 2
   },
   "file_extension": ".py",
   "mimetype": "text/x-python",
   "name": "python",
   "nbconvert_exporter": "python",
   "pygments_lexer": "ipython2",
   "version": "2.7.6"
  }
 },
 "nbformat": 4,
 "nbformat_minor": 0
}
