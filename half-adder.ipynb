{
 "cells": [
  {
   "cell_type": "code",
   "execution_count": 129,
   "metadata": {
    "collapsed": true
   },
   "outputs": [],
   "source": [
    "import qiskit.tools.jupyter\n",
    "from qiskit import QuantumCircuit"
   ]
  },
  {
   "cell_type": "code",
   "execution_count": 130,
   "outputs": [],
   "source": [
    "a = 1\n",
    "b = 0\n",
    "\n",
    "quantum_h_adder = QuantumCircuit(4, 2)\n",
    "if a == 1:\n",
    "    quantum_h_adder.x(0)\n",
    "\n",
    "if b == 1:\n",
    "    quantum_h_adder.x(1)"
   ],
   "metadata": {
    "collapsed": false
   }
  },
  {
   "cell_type": "code",
   "execution_count": 131,
   "outputs": [
    {
     "data": {
      "text/plain": "<qiskit.circuit.instructionset.InstructionSet at 0x1577f8700>"
     },
     "execution_count": 131,
     "metadata": {},
     "output_type": "execute_result"
    }
   ],
   "source": [
    "quantum_h_adder.barrier()\n",
    "quantum_h_adder.cx(0, 2)\n",
    "quantum_h_adder.cx(1, 2)\n",
    "quantum_h_adder.ccx(0, 1, 3)\n",
    "quantum_h_adder.barrier()"
   ],
   "metadata": {
    "collapsed": false
   }
  },
  {
   "cell_type": "code",
   "execution_count": 132,
   "outputs": [
    {
     "data": {
      "text/plain": "     ┌───┐ ░                 ░       \nq_0: ┤ X ├─░───■─────────■───░───────\n     └───┘ ░   │         │   ░       \nq_1: ──────░───┼────■────■───░───────\n           ░ ┌─┴─┐┌─┴─┐  │   ░ ┌─┐   \nq_2: ──────░─┤ X ├┤ X ├──┼───░─┤M├───\n           ░ └───┘└───┘┌─┴─┐ ░ └╥┘┌─┐\nq_3: ──────░───────────┤ X ├─░──╫─┤M├\n           ░           └───┘ ░  ║ └╥┘\nc: 2/═══════════════════════════╩══╩═\n                                0  0 ",
      "text/html": "<pre style=\"word-wrap: normal;white-space: pre;background: #fff0;line-height: 1.1;font-family: &quot;Courier New&quot;,Courier,monospace\">     ┌───┐ ░                 ░       \nq_0: ┤ X ├─░───■─────────■───░───────\n     └───┘ ░   │         │   ░       \nq_1: ──────░───┼────■────■───░───────\n           ░ ┌─┴─┐┌─┴─┐  │   ░ ┌─┐   \nq_2: ──────░─┤ X ├┤ X ├──┼───░─┤M├───\n           ░ └───┘└───┘┌─┴─┐ ░ └╥┘┌─┐\nq_3: ──────░───────────┤ X ├─░──╫─┤M├\n           ░           └───┘ ░  ║ └╥┘\nc: 2/═══════════════════════════╩══╩═\n                                0  0 </pre>"
     },
     "execution_count": 132,
     "metadata": {},
     "output_type": "execute_result"
    }
   ],
   "source": [
    "quantum_h_adder.measure(2, 0)\n",
    "quantum_h_adder.measure(3, 0)\n",
    "quantum_h_adder.draw()"
   ],
   "metadata": {
    "collapsed": false
   }
  }
 ],
 "metadata": {
  "kernelspec": {
   "display_name": "Python 3",
   "language": "python",
   "name": "python3"
  },
  "language_info": {
   "codemirror_mode": {
    "name": "ipython",
    "version": 2
   },
   "file_extension": ".py",
   "mimetype": "text/x-python",
   "name": "python",
   "nbconvert_exporter": "python",
   "pygments_lexer": "ipython2",
   "version": "2.7.6"
  }
 },
 "nbformat": 4,
 "nbformat_minor": 0
}
